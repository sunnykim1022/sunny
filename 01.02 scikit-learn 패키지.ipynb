{
 "cells": [
  {
   "cell_type": "markdown",
   "metadata": {
    "school_cell_uuid": "84865712f2da41a9a6cf46b87b4e5405"
   },
   "source": [
    "# scikit-learn 패키지"
   ]
  },
  {
   "cell_type": "markdown",
   "metadata": {
    "school_cell_uuid": "2ca8e3c3114b44c2962b17ed41b9e68c"
   },
   "source": [
    "scikit-learn 패키지는 머신러닝 교육을 위한 파이썬 패키지로 다음과 같은 내용을 포함한다.\n",
    "\n",
    "* 벤치마크용 데이터셋 예제\n",
    "* 데이터 전처리(preprocessing)\n",
    "* 지도 학습(Supervised learning)\n",
    "* 비지도 학습(Unsupervised learning)\n",
    "* 모형 평가 및 선택 (evaluation and selection)\n",
    "\n",
    "scikit-learn 패키지의 장점은 다양한 머신 러닝 모형 즉, 알고리즘을 하나의 패키지에서 모두 제공하고 있다는 점이다.  다음은 scikit-learn 패키지에서 제공하는 머신 러닝 모형의 목록이다. 이 목록은 대표적인 것들만을 나열한 것이며 지속적으로 모형들이 추가되고 있다.\n"
   ]
  },
  {
   "cell_type": "markdown",
   "metadata": {
    "school_cell_uuid": "339fb78324af422382f7fb72555766cc"
   },
   "source": [
    "scikit-learn 패키지의 임포트 이름은 `sklearn`이다. 이 책에서는 `sk`라는 alias 이름으로 임포트하여 사용한다.\n",
    "\n",
    "```\n",
    "import sklearn as sk\n",
    "```"
   ]
  },
  {
   "cell_type": "markdown",
   "metadata": {
    "school_cell_uuid": "ee4729f6f6b84589a3f06a6fe605d7c0"
   },
   "source": [
    "## scikit-learn에서 제공하는 데이터셋"
   ]
  },
  {
   "cell_type": "markdown",
   "metadata": {
    "school_cell_uuid": "bc2bb616fd0744edab52dd6453d59589"
   },
   "source": [
    "sklearn.datasets 서브패키지는 다양한 예제 데이터셋을 제공한다.\n",
    "데이터를 불러오는 명령들은 크게 다음과 같이 세가지 계열의 명령으로 나눌 수 있다.\n",
    "\n",
    "* load 계열 명령: scikit-learn 설치 패키지에 같이 포함된 소량의 데이터\n",
    "* fetch 계열 명령: 인터넷에서 다운로드할 수 있는 대량의 데이터\n",
    "* make 계열 명령: 확률분포를 사용하여 가상의 데이터를 생성 \n",
    "\n"
   ]
  },
  {
   "cell_type": "markdown",
   "metadata": {
    "school_cell_uuid": "c49d87fb7d6d464bbb915daf6afcec52"
   },
   "source": [
    "## load 계열 명령"
   ]
  },
  {
   "cell_type": "markdown",
   "metadata": {
    "school_cell_uuid": "01e72a350008411c910d761bbe887abd"
   },
   "source": [
    "load 계열의 명령들은 설치 패키지에 처음부터 저장되어 있어서 별로도 다운로드 받지 않아도 바로 쓸 수 있는 데이터를 제공한다.\n",
    " \n",
    "* `load_boston`: 회귀 분석용 보스턴 집값 \n",
    "* `load_diabetes`: 회귀 분석용 당뇨병 자료\n",
    "* `load_linnerud`: 회귀 분석용 linnerud 자료\n",
    "* `load_iris`: 분류용 붓꽃(iris) 자료\n",
    "* `load_digits`: 분류용 숫자(digit) 필기 이미지 자료\n",
    "* `load_wine`: 분류용 포도주(wine) 등급 자료\n",
    "* `load_breast_cancer`: 분류용 유방암(breast cancer) 진단 자료\n"
   ]
  },
  {
   "cell_type": "markdown",
   "metadata": {
    "school_cell_uuid": "42134bc97ce240279a3c037dada73b79"
   },
   "source": [
    "## fetch 계열 명령"
   ]
  },
  {
   "cell_type": "markdown",
   "metadata": {
    "school_cell_uuid": "02f450e06dfb45509c769dcdb1a74b5f"
   },
   "source": [
    "fetch 계열의 명령들은 데이터의 크기가 커서 패키지에 처음부터 저장되어 있지 않고 인터넷에서 다운로드 받아 홈 디렉토리 아래의 scikit_learn_data 라는 서브 디렉토리에 저장한 후 추후 불러들이는 데이터들이다. 따라서 최초 사용시에 인터넷에 연결되어 있지 않으면 사용할 수 없다.\n",
    " \n",
    "* `fetch_california_housing`: : 회귀분석용 캘리포니아 집값 자료\n",
    "* `fetch_covtype` : 회귀분석용 토지 조사 자료\n",
    "* `fetch_20newsgroups`  : 뉴스 그룹 텍스트 자료\n",
    "* `fetch_olivetti_faces` : 얼굴 이미지 자료\n",
    "* `fetch_lfw_people` : 유명인 얼굴 이미지 자료\n",
    "* `fetch_lfw_pairs` : 유명인 얼굴 이미지 자료\n",
    "* `fetch_rcv1` : 로이터 뉴스 말뭉치\n",
    "* `fetch_kddcup99` : Kddcup 99 Tcp dump 자료"
   ]
  },
  {
   "cell_type": "markdown",
   "metadata": {
    "school_cell_uuid": "b2b3931a7c50498ca4edc40fd74f7606"
   },
   "source": [
    "## make 계열 명령"
   ]
  },
  {
   "cell_type": "markdown",
   "metadata": {
    "school_cell_uuid": "b7f9eda782fb431a96750bfa75ca4435"
   },
   "source": [
    "경우에 따라서는 모형을 시험하기 위해 원하는 특성을 가진 가상의 데이터가 필요할 수 있다. make 계열 명령은 이러한 가상 데이터를 생성하는 역할을 한다.\n",
    "\n",
    "* `make_regression`: 회귀 분석용 가상 데이터 생성 \n",
    "* `make_classification`: 분류용 가상 데이터 생성 \n",
    "* `make_blobs`: 클러스터링용 가상 데이터 생성 \n",
    "\n",
    "이 외에도 다양한 가상 데이터 생성 명령이 있다."
   ]
  },
  {
   "cell_type": "markdown",
   "metadata": {
    "school_cell_uuid": "2748c22583c74bfc927e661a67a1b211"
   },
   "source": [
    "## 데이터 형식"
   ]
  },
  {
   "cell_type": "markdown",
   "metadata": {
    "school_cell_uuid": "3fc1ce796d26450fa5ad2647875ce741"
   },
   "source": [
    "scikit-learn에서 제공하는 데이터셋은 `Bunch` 라는 클래스 객체 형식으로 생성된다. 이 클래스 객체는 다음과 같은 속성을 가진다.\n",
    "\n",
    " * `data`: (필수) 독립 변수 `ndarray` 배열\n",
    " * `target`: (필수) 종속 변수 `ndarray` 배열\n",
    " * `feature_names`: (옵션) 독립 변수 이름 리스트\n",
    " * `target_names`: (옵션) 종속 변수 이름 리스트\n",
    " * `DESCR`: (옵션) 자료에 대한 설명"
   ]
  }
 ],
 "metadata": {
  "celltoolbar": "Edit Metadata",
  "kernelspec": {
   "display_name": "Python 3",
   "language": "python",
   "name": "python3"
  },
  "language_info": {
   "codemirror_mode": {
    "name": "ipython",
    "version": 3
   },
   "file_extension": ".py",
   "mimetype": "text/x-python",
   "name": "python",
   "nbconvert_exporter": "python",
   "pygments_lexer": "ipython3",
   "version": "3.6.6"
  },
  "latex_envs": {
   "bibliofile": "biblio.bib",
   "cite_by": "apalike",
   "current_citInitial": 1,
   "eqLabelWithNumbers": true,
   "eqNumInitial": 0
  },
  "toc": {
   "base_numbering": 1,
   "nav_menu": {},
   "number_sections": false,
   "sideBar": true,
   "skip_h1_title": false,
   "title_cell": "Table of Contents",
   "title_sidebar": "Contents",
   "toc_cell": false,
   "toc_position": {},
   "toc_section_display": true,
   "toc_window_display": false
  }
 },
 "nbformat": 4,
 "nbformat_minor": 1
}