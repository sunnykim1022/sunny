{
 "cells": [
  {
   "cell_type": "markdown",
   "metadata": {
    "school_cell_uuid": "f94d5ec175b84b73bbb5941bdbde9c55"
   },
   "source": [
    "# 데이터 과학을 위한 딥러닝"
   ]
  },
  {
   "cell_type": "markdown",
   "metadata": {
    "school_cell_uuid": "5f64359d961349b291b59ff83f2c9812"
   },
   "source": [
    "## 1. 신경망 모형 기초"
   ]
  },
  {
   "cell_type": "markdown",
   "metadata": {
    "school_cell_uuid": "99e440e006e242a3a2dac899a9d5dbdb"
   },
   "source": [
    "[[school_notebook:0178802a219c4e6bb9b820b49bf57f91]]"
   ]
  },
  {
   "cell_type": "markdown",
   "metadata": {
    "school_cell_uuid": "888762542f724bc98a89cb2875f21aaf"
   },
   "source": [
    "[[school_notebook:f9d9fddb7cc7494a9e4be99f0e137be0]]"
   ]
  },
  {
   "cell_type": "markdown",
   "metadata": {
    "school_cell_uuid": "4a7953571a17448c9e13aae85d5552d2"
   },
   "source": [
    "[[school_notebook:a6e840e0c0274fcda7b9cac9e49f1735]]"
   ]
  },
  {
   "cell_type": "markdown",
   "metadata": {
    "school_cell_uuid": "b7b748f8596c4b5cb24f5125cec833a3"
   },
   "source": [
    "[[school_notebook:a7ce18eb02b54cbfa760636cc76a4640]]"
   ]
  },
  {
   "cell_type": "markdown",
   "metadata": {
    "school_cell_uuid": "a3fb4a7eab2a48bd8b2c26825589ce1f"
   },
   "source": [
    "[[school_notebook:5cbab09d777841f591a67928d7043f51]]"
   ]
  },
  {
   "cell_type": "markdown",
   "metadata": {
    "school_cell_uuid": "217fd4c2e70f42bdba3807674fe4e627"
   },
   "source": [
    "[[school_notebook:51e147088d474fe1bf32e394394eaea7]]"
   ]
  },
  {
   "cell_type": "markdown",
   "metadata": {
    "school_cell_uuid": "9f182de3bab84baa8b493852c1d0d6b1"
   },
   "source": [
    "[[school_notebook:4f3606fd839f4320a4120a56eec1e228]]"
   ]
  },
  {
   "cell_type": "markdown",
   "metadata": {
    "school_cell_uuid": "5b4ca723f9ca4bfd91910549ec005203"
   },
   "source": [
    "## 2. 신경망 성능 개선"
   ]
  },
  {
   "cell_type": "markdown",
   "metadata": {
    "school_cell_uuid": "a953a7730f914d12a91250c2a50ca680"
   },
   "source": [
    "[[school_notebook:f506ed96cdb84a33925824b4ca233320]]"
   ]
  },
  {
   "cell_type": "markdown",
   "metadata": {
    "school_cell_uuid": "b303b95bbc7e496e8c0c52c907c88c72"
   },
   "source": [
    "[[school_notebook:f18248a467e94c6483783afc93d08af9]]"
   ]
  },
  {
   "cell_type": "markdown",
   "metadata": {
    "school_cell_uuid": "1cfcffded1d94cb89a8b46c873f73d2e"
   },
   "source": [
    "[[school_notebook:ba1f343cbe134837959f5c1c4fd98406]]"
   ]
  },
  {
   "cell_type": "markdown",
   "metadata": {
    "school_cell_uuid": "288090d2f0714c25af262aaccb725d80"
   },
   "source": [
    "## 3. CNN"
   ]
  },
  {
   "cell_type": "markdown",
   "metadata": {
    "school_cell_uuid": "e133618481e342ff803b403499b60915"
   },
   "source": [
    "[[school_notebook:e2d30432911f4498b873232dd7d99cce]]"
   ]
  },
  {
   "cell_type": "markdown",
   "metadata": {
    "school_cell_uuid": "c2f822375da14f04a103137d059d590f"
   },
   "source": [
    "[[school_notebook:8fe08ad706984c3c8acaa44b787dcac0]]"
   ]
  },
  {
   "cell_type": "markdown",
   "metadata": {
    "school_cell_uuid": "4f5b490ccce142b2b3246c1da5282b68"
   },
   "source": [
    "[[school_notebook:8fc58d2c1ffc420dac44eafee7b28cea]]"
   ]
  },
  {
   "cell_type": "markdown",
   "metadata": {
    "school_cell_uuid": "ef0ca425b2004a14a2b3e3812c156a07"
   },
   "source": [
    "[[school_notebook:0378a43f48a742988897a6629add11fe]]"
   ]
  },
  {
   "cell_type": "markdown",
   "metadata": {
    "school_cell_uuid": "65dc6d681a6246e4929b46f0a12e0c89"
   },
   "source": [
    "## 4. Deep CNN"
   ]
  },
  {
   "cell_type": "markdown",
   "metadata": {
    "school_cell_uuid": "4eac20d6b39c4834888716fb6c714d1c"
   },
   "source": [
    "[[school_notebook:d19e803640094f76b93f11b850b920a4]]"
   ]
  },
  {
   "cell_type": "markdown",
   "metadata": {
    "school_cell_uuid": "20a011c29a2444d18d0afcdd668a3c1f"
   },
   "source": [
    "[[school_notebook:47c57f9446224af08f13e1f3b00a774e]]"
   ]
  },
  {
   "cell_type": "markdown",
   "metadata": {
    "school_cell_uuid": "df4ea5e84d6b4056ad3fa6ec0f2935ad"
   },
   "source": [
    "[[school_notebook:8d34d65bcced42ef84996b5d56321ba9]]"
   ]
  },
  {
   "cell_type": "markdown",
   "metadata": {
    "school_cell_uuid": "9b83fed13ff6493eafd25deb3848da66"
   },
   "source": [
    "[[school_notebook:958022040c544257aa7ba88643d6c032]]"
   ]
  },
  {
   "cell_type": "markdown",
   "metadata": {
    "school_cell_uuid": "616e56c9592e467db4b084400eff91e6"
   },
   "source": [
    "[[school_notebook:2537461edbac4ab081b8d7f2acb0d30d]]"
   ]
  },
  {
   "cell_type": "markdown",
   "metadata": {
    "school_cell_uuid": "b65be29ce9724c9baef5867a6046dfe5"
   },
   "source": [
    "[[school_notebook:4ca30ffdf6c0407ab281284459982a25]]"
   ]
  },
  {
   "cell_type": "markdown",
   "metadata": {
    "school_cell_uuid": "dddf338149b1410889d678208aec640a"
   },
   "source": [
    "[[school_notebook:0faaf59e0fcd455f92c1b9a1107958c4]]"
   ]
  },
  {
   "cell_type": "markdown",
   "metadata": {
    "school_cell_uuid": "572ba14c80694949866e4ae95318958c"
   },
   "source": [
    "[[school_notebook:b00919dbda7246f697931e1d65a5e500]]"
   ]
  },
  {
   "cell_type": "markdown",
   "metadata": {
    "school_cell_uuid": "1803ec1901e147ae9580024260ed2cca"
   },
   "source": [
    "[[school_notebook:fa365f20b43f432e8fe19e35c216870d]]"
   ]
  },
  {
   "cell_type": "markdown",
   "metadata": {
    "school_cell_uuid": "603791e81f8f4fe2949c11b1ac8c64ce"
   },
   "source": [
    "[[school_notebook:2b5d2a0d176e4982a0c967587b6179e4]]"
   ]
  },
  {
   "cell_type": "markdown",
   "metadata": {
    "school_cell_uuid": "ec291f55b2854911baab009dba2468a8"
   },
   "source": [
    "## 5. 생성 모형"
   ]
  },
  {
   "cell_type": "markdown",
   "metadata": {
    "school_cell_uuid": "b215e46213df4229a9768572668031e1"
   },
   "source": [
    "[[school_notebook:1bde49133d7d40c0806e78b70513040b]]"
   ]
  },
  {
   "cell_type": "markdown",
   "metadata": {
    "school_cell_uuid": "046f7c7b34c34edabcdc0f7dc3b9e025"
   },
   "source": [
    "[[school_notebook:6c0af24f7c3f4d79ab82289ec8fbab26]]"
   ]
  },
  {
   "cell_type": "markdown",
   "metadata": {
    "school_cell_uuid": "90cde3ad5f7d45daacf14a283a8bf7da"
   },
   "source": [
    "[[school_notebook:d433eb9e0a2a4c5d8fc14dbe14d20335]]"
   ]
  },
  {
   "cell_type": "markdown",
   "metadata": {
    "school_cell_uuid": "046f7c7b34c34edabcdc0f7dc3b9e025"
   },
   "source": [
    "[[school_notebook:c5248de280a64ae2a96c1d4e690fdf79]]"
   ]
  },
  {
   "cell_type": "markdown",
   "metadata": {
    "school_cell_uuid": "780f6741043b46e1b9f5a1972cbafeef"
   },
   "source": [
    "## 6. RNN"
   ]
  },
  {
   "cell_type": "markdown",
   "metadata": {
    "school_cell_uuid": "217fd4c2e70f42bdba3807674fe4e627"
   },
   "source": [
    "[[school_notebook:6927b0906f884a67b0da9310d3a581ee]]"
   ]
  },
  {
   "cell_type": "markdown",
   "metadata": {
    "school_cell_uuid": "97b9e51beacd493fba00c250db3c29ee"
   },
   "source": [
    "[[school_notebook:bc7f54b21a8349c79ecaa4906428dea1]]"
   ]
  },
  {
   "cell_type": "markdown",
   "metadata": {
    "school_cell_uuid": "217fd4c2e70f42bdba3807674fe4e627"
   },
   "source": [
    "[[school_notebook:1d93b9dc6c624fbaa6af2ce9290e2479]]"
   ]
  },
  {
   "cell_type": "markdown",
   "metadata": {
    "school_cell_uuid": "217fd4c2e70f42bdba3807674fe4e627"
   },
   "source": [
    "[[school_notebook:770f59f6f7cc40c8b6dc98dddd06c6c5]]"
   ]
  },
  {
   "cell_type": "markdown",
   "metadata": {
    "school_cell_uuid": "ea12153386ef4707b5acf845e5cefd4e"
   },
   "source": [
    "[[school_notebook:26607ca8822341878e1cab7c9045007c]]"
   ]
  },
  {
   "cell_type": "markdown",
   "metadata": {
    "school_cell_uuid": "58272a520c3343d79428235731982b0b"
   },
   "source": [
    "[[school_notebook:eebc2e0201bf408eafdb4ba7a39c0c28]]"
   ]
  }
 ],
 "metadata": {
  "anaconda-cloud": {},
  "celltoolbar": "Edit Metadata",
  "kernelspec": {
   "display_name": "Python 3",
   "language": "python",
   "name": "python3"
  },
  "language_info": {
   "codemirror_mode": {
    "name": "ipython",
    "version": 3
   },
   "file_extension": ".py",
   "mimetype": "text/x-python",
   "name": "python",
   "nbconvert_exporter": "python",
   "pygments_lexer": "ipython3",
   "version": "3.6.8"
  },
  "latex_envs": {
   "LaTeX_envs_menu_present": true,
   "autoclose": false,
   "autocomplete": true,
   "bibliofile": "biblio.bib",
   "cite_by": "apalike",
   "current_citInitial": 1,
   "eqLabelWithNumbers": true,
   "eqNumInitial": 1,
   "hotkeys": {
    "equation": "Ctrl-E",
    "itemize": "Ctrl-I"
   },
   "labels_anchors": false,
   "latex_user_defs": false,
   "report_style_numbering": false,
   "user_envs_cfg": false
  },
  "toc": {
   "base_numbering": 1,
   "nav_menu": {},
   "number_sections": false,
   "sideBar": true,
   "skip_h1_title": false,
   "title_cell": "Table of Contents",
   "title_sidebar": "Contents",
   "toc_cell": false,
   "toc_position": {},
   "toc_section_display": true,
   "toc_window_display": false
  }
 },
 "nbformat": 4,
 "nbformat_minor": 2
}